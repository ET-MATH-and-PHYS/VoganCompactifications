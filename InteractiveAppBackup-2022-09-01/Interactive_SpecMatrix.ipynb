{
 "cells": [
  {
   "cell_type": "code",
   "execution_count": 1,
   "metadata": {
    "collapsed": false
   },
   "outputs": [
   ],
   "source": [
    "# Imports\n",
    "from GeometricMultiplicityMatrix_Polynomials import spec_matr_widget"
   ]
  },
  {
   "cell_type": "markdown",
   "metadata": {
    "collapsed": false
   },
   "source": [
    "# Spectral Multiplicity Matrix Tool\n",
    "\n",
    "This tool facilitates the visualization of the spectral multiplicity matrix with a given support, associated with the eigen powers of its infinitesimal parameter. The support of a multisegment is the multiset of all segment elements contained in it.  To use the tool, input a list of powers of your infinitesimal parameter at Frobenius into the text box as a list of complete segment portions separated by colons, as in the following format:\n",
    "\n",
    "$$[i_{1,1},...,i_{1,n_1}] : \\cdots : [i_{k,1},...,i_{k,n_k}]$$\n",
    "\n",
    "where $i_{l,j} = i_{l,j+1}$ or $i_{l,j} = i_{l,j+1}-1$ for each $1 \\leq j \\leq n_l-1$ and $1\\leq l \\leq k$. The entries in a segment can be half integers, but if so must be inputted in decimal form (e.g. 1.5). The computation relies on the p-KLH and Proposition 8.4 in Induced representations of reductive $\\mathfrak{p}$-adic groups. II. On irreducible representations of $GL(n)$. Once you have your desired infinitesimal parameter, simply press the \"Run Algorithm\" button to obtain its associated multiplicity matrix. If the inputted infinitesimal parameter is not yet supported a warning will be displayed and nothing else. A check\\-box with label \"Standards\" is given to choose if the standard representations are displayed explicitly. The multisegments in the table were ordered such that the matrix is upper\\-triangular. \n",
    "\n",
    "**Notation**: We denote the unique irreducible quotient of a standard representation $M$ by $Q(M)$. Standard representations are given by normalized parabolic induction, where $B$ stands for the upper-triangular borel subgroup and $P_{a_1,...,a_k}$ stands for the upper-triangular parabolic with Levi subgroup $GL_{a_1}\\times \\cdots \\times GL_{a_k}$ positioned along the diagonal. The square tensor product signifies that we are considering external tensor products of representations. Finally $\\nu$ represents the standard character for $GL_n$, $|\\det(\\cdot)|$.\n",
    "\n",
    "**Types of infinitesimals that can be computed**: Any infinitesimal which has segment portions of the following form can be computed:\n",
    "\n",
    "1. $[b,b+1,...,e]$, a pure segment\n",
    "2. $[a,...,a,a+1,...,a+1]$, an arbitrary number of $a$ occurrences and an arbitrary number of $a+1$ occurrences\n",
    "3. $[a,...,a,a+1,...,a+1,a+2]$, an arbitrary number of $a$ occurrences, an arbitrary number of $a+1$ occurrences, and a single $a+2$ occurrence\n",
    "\n"
   ]
  },
  {
   "cell_type": "code",
   "execution_count": 2,
   "metadata": {
    "collapsed": false
   },
   "outputs": [
    {
     "data": {
      "application/vnd.jupyter.widget-view+json": {
       "model_id": "6b5e6e5cd461417a993ef145121733c8",
       "version_major": 2,
       "version_minor": 0
      },
      "text/plain": [
       "interactive(children=(Textarea(value='[-1,0,1]', description='Infinitesimal Powers'), Checkbox(value=False, de…"
      ]
     },
     "execution_count": 2,
     "metadata": {
     },
     "output_type": "execute_result"
    }
   ],
   "source": [
    "spec_matr_widget()"
   ]
  },
  {
   "cell_type": "code",
   "execution_count": 0,
   "metadata": {
    "collapsed": false
   },
   "outputs": [
   ],
   "source": [
   ]
  }
 ],
 "metadata": {
  "kernelspec": {
   "display_name": "SageMath 9.5",
   "language": "sagemath",
   "metadata": {
    "cocalc": {
     "description": "Open-source mathematical software system",
     "priority": 2,
     "url": "https://www.sagemath.org/"
    }
   },
   "name": "sage-9.5",
   "resource_dir": "/ext/jupyter/kernels/sage-9.5"
  },
  "language_info": {
   "codemirror_mode": {
    "name": "ipython",
    "version": 3
   },
   "file_extension": ".py",
   "mimetype": "text/x-python",
   "name": "python",
   "nbconvert_exporter": "python",
   "pygments_lexer": "ipython3",
   "version": "3.9.9"
  }
 },
 "nbformat": 4,
 "nbformat_minor": 4
}