{
 "cells": [
  {
   "cell_type": "code",
   "execution_count": 1,
   "metadata": {
    "collapsed": false
   },
   "outputs": [
   ],
   "source": [
    "# Imports\n",
    "from Rep_Sage_lib import rank_to_multi_widget"
   ]
  },
  {
   "cell_type": "markdown",
   "metadata": {
    "collapsed": false
   },
   "source": [
    "# Rank Triangle $\\mapsto$ Multisegment Widget\n",
    "\n",
    "This tool facilitates transition from the language of rank triangles to the language of multisegments. To use the tool, input the rank triangle for your orbit in the following form: \n",
    "    \n",
    "$$(e_n,...,e_0),\\{\\text{dim}\\,E_n,...,\\text{dim}\\,E_0\\}, \\{\\{r_{n,n-1},...,r_{1,0}\\}, \\{r_{n,n-2},...,r_{2,0}\\},...,\\{r_{n,0}\\}\\}$$\n",
    "   \n",
    "where $\\text{dim}\\,E_k \\in \\mathbb{N}$ for each $0 \\leq k \\leq n$, and $r_{ij} = \\text{rank}(x_{i,i-1}x_{i-1,i-2}\\cdots x_{j+1,j})$ are the ranks of the products of matrix blocks in the orbit. This formatting follows the convention of \"PROOF OF VOGAN’S CONJECTURE ON ARTHUR PACKETS: SIMPLE PARAMETERS OF p-ADIC GENERAL LINEAR GROUPS\". Once you have your desired rank triangle for your orbit inputted, simply press the \"Run Algorithm\" button to obtain the corresponding multisegment."
   ]
  },
  {
   "cell_type": "code",
   "execution_count": 2,
   "metadata": {
    "collapsed": false
   },
   "outputs": [
    {
     "data": {
      "application/vnd.jupyter.widget-view+json": {
       "model_id": "c0ff1bf2423d45e2aeadab1ee4a12439",
       "version_major": 2,
       "version_minor": 0
      },
      "text/plain": [
       "interactive(children=(Textarea(value='(2,1,0,-1,2),{2,4,4,4,2},{{2,3,3,2},{1,2,1},{1,1},{0}}', description='Ra…"
      ]
     },
     "execution_count": 2,
     "metadata": {
     },
     "output_type": "execute_result"
    }
   ],
   "source": [
    "rank_to_multi_widget()"
   ]
  },
  {
   "cell_type": "code",
   "execution_count": 0,
   "metadata": {
    "collapsed": false
   },
   "outputs": [
   ],
   "source": [
   ]
  }
 ],
 "metadata": {
  "kernelspec": {
   "display_name": "SageMath 9.5",
   "language": "sagemath",
   "metadata": {
    "cocalc": {
     "description": "Open-source mathematical software system",
     "priority": 2,
     "url": "https://www.sagemath.org/"
    }
   },
   "name": "sage-9.5",
   "resource_dir": "/ext/jupyter/kernels/sage-9.5"
  },
  "language_info": {
   "codemirror_mode": {
    "name": "ipython",
    "version": 3
   },
   "file_extension": ".py",
   "mimetype": "text/x-python",
   "name": "python",
   "nbconvert_exporter": "python",
   "pygments_lexer": "ipython3",
   "version": "3.9.9"
  }
 },
 "nbformat": 4,
 "nbformat_minor": 4
}