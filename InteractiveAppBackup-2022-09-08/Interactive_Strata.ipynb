{
 "cells": [
  {
   "cell_type": "code",
   "execution_count": 2,
   "metadata": {
    "collapsed": false
   },
   "outputs": [
   ],
   "source": [
    "# Imports\n",
    "from Strata_lib import all_strata_widget"
   ]
  },
  {
   "cell_type": "markdown",
   "metadata": {
    "collapsed": false
   },
   "source": [
    "# All Strata Tool\n",
    "\n",
    "The following tool relies on Reginald Lybbert's VoganV.m2 code in the paper \"APPEARANCE OF THE KASHIWARA-SAITO SINGULARITY IN THE REPRESENTATION THEORY OF $p$-ADIC $GL_{16}$\".\n",
    "\n",
    "This tool facilitates the visualization of all strata associated with a list of eigenspace dimensions. The strata are displayed in terms of their rank triangles, with the first row being the dimension row. To use the tool, input a list of positive integers for the eigenspace dimensions, separated by commas. For example, an input should be in the following form:\n",
    "    \n",
    "$$\\text{dim}\\,E_1,...,\\text{dim}\\,E_n$$\n",
    "   \n",
    "where $\\text{dim}\\,E_k \\in \\mathbb{N}$ for each $1 \\leq k \\leq n$. Once you have your desired dimension list, simply press the \"Run Algorithm\" button to obtain the strata."
   ]
  },
  {
   "cell_type": "code",
   "execution_count": 3,
   "metadata": {
    "collapsed": false
   },
   "outputs": [
    {
     "data": {
      "application/vnd.jupyter.widget-view+json": {
       "model_id": "d854f4bd65d04cee8978f9ead9224001",
       "version_major": 2,
       "version_minor": 0
      },
      "text/plain": [
       "interactive(children=(Textarea(value='2,4,4,4,2', description='Dimensions'), Button(description='Run Interact'…"
      ]
     },
     "execution_count": 3,
     "metadata": {
     },
     "output_type": "execute_result"
    }
   ],
   "source": [
    "all_strata_widget()"
   ]
  },
  {
   "cell_type": "code",
   "execution_count": 0,
   "metadata": {
    "collapsed": false
   },
   "outputs": [
   ],
   "source": [
   ]
  }
 ],
 "metadata": {
  "kernelspec": {
   "display_name": "SageMath 9.5",
   "language": "sagemath",
   "metadata": {
    "cocalc": {
     "description": "Open-source mathematical software system",
     "priority": 2,
     "url": "https://www.sagemath.org/"
    }
   },
   "name": "sage-9.5",
   "resource_dir": "/ext/jupyter/kernels/sage-9.5"
  },
  "language_info": {
   "codemirror_mode": {
    "name": "ipython",
    "version": 3
   },
   "file_extension": ".py",
   "mimetype": "text/x-python",
   "name": "python",
   "nbconvert_exporter": "python",
   "pygments_lexer": "ipython3",
   "version": "3.9.9"
  }
 },
 "nbformat": 4,
 "nbformat_minor": 4
}