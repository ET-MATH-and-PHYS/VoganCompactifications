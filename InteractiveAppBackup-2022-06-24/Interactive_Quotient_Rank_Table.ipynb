{
 "cells": [
  {
   "cell_type": "code",
   "execution_count": 1,
   "metadata": {
    "collapsed": false
   },
   "outputs": [
   ],
   "source": [
    "# Imports\n",
    "from Rep_Sage_lib import quotient_table_widget"
   ]
  },
  {
   "cell_type": "markdown",
   "metadata": {
    "collapsed": false
   },
   "source": [
    "# Quotient Rank Table Tool\n",
    "\n",
    "This tool facilitates the visualization of the relationship between the unique irreducible quotients associated with the multisegments less than or equal to the inputted one in the quotient ordering and their corresponding rank triangles. To use the tool, input a multisegment into the text box in the following format:\n",
    "    \n",
    "$$[[i_1,j_1],[i_2,j_2],...,[i_n,j_n]]$$\n",
    "   \n",
    "where $i_k \\leq j_k$ for each $1 \\leq k \\leq n$. Once you have your desired multisegment, simply press the \"Run Algorithm\" button to obtain its associated table."
   ]
  },
  {
   "cell_type": "code",
   "execution_count": 2,
   "metadata": {
    "collapsed": false
   },
   "outputs": [
    {
     "data": {
      "application/vnd.jupyter.widget-view+json": {
       "model_id": "ec446665eec648b9a44a6825b31d707b",
       "version_major": 2,
       "version_minor": 0
      },
      "text/plain": [
       "interactive(children=(Textarea(value='[[0,0],[-1,1]]', description='Multisegment'), Button(description='Run In…"
      ]
     },
     "execution_count": 2,
     "metadata": {
     },
     "output_type": "execute_result"
    }
   ],
   "source": [
    "quotient_table_widget()"
   ]
  },
  {
   "cell_type": "code",
   "execution_count": 0,
   "metadata": {
    "collapsed": false
   },
   "outputs": [
   ],
   "source": [
   ]
  }
 ],
 "metadata": {
  "kernelspec": {
   "display_name": "SageMath 9.5",
   "language": "sagemath",
   "metadata": {
    "cocalc": {
     "description": "Open-source mathematical software system",
     "priority": 2,
     "url": "https://www.sagemath.org/"
    }
   },
   "name": "sage-9.5",
   "resource_dir": "/ext/jupyter/kernels/sage-9.5"
  },
  "language_info": {
   "codemirror_mode": {
    "name": "ipython",
    "version": 3
   },
   "file_extension": ".py",
   "mimetype": "text/x-python",
   "name": "python",
   "nbconvert_exporter": "python",
   "pygments_lexer": "ipython3",
   "version": "3.9.9"
  }
 },
 "nbformat": 4,
 "nbformat_minor": 4
}