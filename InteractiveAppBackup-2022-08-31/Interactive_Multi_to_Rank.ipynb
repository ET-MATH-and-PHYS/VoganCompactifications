{
 "cells": [
  {
   "cell_type": "code",
   "execution_count": 1,
   "metadata": {
    "collapsed": false
   },
   "outputs": [
   ],
   "source": [
    "# Imports\n",
    "from Rep_Sage_lib import multi_to_rank_widget"
   ]
  },
  {
   "cell_type": "markdown",
   "metadata": {
    "collapsed": false
   },
   "source": [
    "# Multisegment $\\mapsto$ Rank-Triangle Widget\n",
    "\n",
    "This tool facilitates transition from the language of multisegments to the language of rank triangles. To use the tool, input a multisegment into the first text box labeled \"Multisegment\" in the following format:\n",
    "    \n",
    "$$[[i_1,j_1],[i_2,j_2],...,[i_{\\ell},j_{\\ell}]]$$\n",
    "   \n",
    "where $i_k \\leq j_k$ for each $1 \\leq k \\leq \\ell$. The entries in a segment can be half integers, but if so must be inputted in decimal form (e.g. 1.5). Then in the second text box, labeled \"Dimensions,\" input the list of eigenspace dimensions separated by commas, as follows:\n",
    "    \n",
    "$$\\text{dim}\\,E_n,...,\\text{dim}\\,E_0$$\n",
    "   \n",
    "where $\\text{dim}\\,E_k \\in \\mathbb{N}$ for each $0 \\leq k \\leq n$. Once you have your desired multisegment and dimension list inputted, simply press the \"Run Algorithm\" button to obtain the corresponding rank triangle. We follow the convention of \"PROOF OF VOGAN’S CONJECTURE ON ARTHUR PACKETS: SIMPLE PARAMETERS OF p-ADIC GENERAL LINEAR GROUPS\" with a rank triangle with five eigenspaces being formatted as follows:\n",
    "\n",
    "\\begin{equation*}\n",
    "\\begin{array}{ccccccccc} e_4 &  & e_3 & & e_2 & & e_1 && e_0 \\\\ \\hline m_4 &  & m_3 & & m_2 & & m_1 && m_0 \\\\ \\hline & r_{43} & & r_{32} & & r_{21} & & r_{10} & \\\\ & & r_{42} & & r_{31} & & r_{20} & & \\\\ & & & r_{41} & & r_{30} & & & \\\\ & & & & r_{40} & & & & \\end{array}\n",
    "\\end{equation*}\n",
    "where $r_{ij} = \\text{rank}(x_{i,i-1}\\cdots x_{j+1,j})$, where $x_{i,i-1}$ is a $m_i\\times m_{i-1}$ matrix going from the $E_{i-1}$ eigenspace to the $E_{i}$ eigenspace.."
   ]
  },
  {
   "cell_type": "code",
   "execution_count": 2,
   "metadata": {
    "collapsed": false
   },
   "outputs": [
    {
     "data": {
      "application/vnd.jupyter.widget-view+json": {
       "model_id": "6bfa6f3fd5804b0592122509b9960f8f",
       "version_major": 2,
       "version_minor": 0
      },
      "text/plain": [
       "interactive(children=(Textarea(value='[[2,3],[2,3],[4,4],[4,4],[1,1],[1,1]]', description='Multisegment'), But…"
      ]
     },
     "execution_count": 2,
     "metadata": {
     },
     "output_type": "execute_result"
    }
   ],
   "source": [
    "multi_to_rank_widget()"
   ]
  },
  {
   "cell_type": "code",
   "execution_count": 0,
   "metadata": {
    "collapsed": false
   },
   "outputs": [
   ],
   "source": [
   ]
  }
 ],
 "metadata": {
  "kernelspec": {
   "display_name": "SageMath 9.5",
   "language": "sagemath",
   "metadata": {
    "cocalc": {
     "description": "Open-source mathematical software system",
     "priority": 2,
     "url": "https://www.sagemath.org/"
    }
   },
   "name": "sage-9.5",
   "resource_dir": "/ext/jupyter/kernels/sage-9.5"
  },
  "language_info": {
   "codemirror_mode": {
    "name": "ipython",
    "version": 3
   },
   "file_extension": ".py",
   "mimetype": "text/x-python",
   "name": "python",
   "nbconvert_exporter": "python",
   "pygments_lexer": "ipython3",
   "version": "3.9.9"
  }
 },
 "nbformat": 4,
 "nbformat_minor": 4
}