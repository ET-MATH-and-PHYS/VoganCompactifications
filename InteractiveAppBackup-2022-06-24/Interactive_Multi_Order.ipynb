{
 "cells": [
  {
   "cell_type": "code",
   "execution_count": 1,
   "metadata": {
    "collapsed": false
   },
   "outputs": [
   ],
   "source": [
    "# Imports\n",
    "from Rep_Sage_lib import multi_order_widget"
   ]
  },
  {
   "cell_type": "markdown",
   "metadata": {
    "collapsed": false
   },
   "source": [
    "# Multisegment Order Tool\n",
    "\n",
    "This tool facilitates the computation of the order relation between two inputed multisegments. To use the tool, input two multisegments into the text box separated by the appropriate comparator in the following format:\n",
    "    \n",
    "$$[[i_1,j_1],[i_2,j_2],...,[i_n,j_n]] ? [[k_1,l_1],[k_2,l_2],...,[k_m,k_m]]$$\n",
    "   \n",
    "where $i_r \\leq j_r$ for each $1 \\leq r \\leq n$ and $k_s \\leq l_s$ for each $1\\leq s \\leq m$, and $? \\in \\{<,>,=,<=,>=\\}$. Once you have your desired multisegments and order relation, simply press the \"Run Algorithm\" button to obtain the truth value of your input. The default ordering corresponds with the sub-module picture, so a button Quotient is provided if one wishes to work with the quotient module picture although the ordering is merely the reverse."
   ]
  },
  {
   "cell_type": "code",
   "execution_count": 2,
   "metadata": {
    "collapsed": false
   },
   "outputs": [
    {
     "data": {
      "application/vnd.jupyter.widget-view+json": {
       "model_id": "8c11e1ba60f2447b8e6dd14219066371",
       "version_major": 2,
       "version_minor": 0
      },
      "text/plain": [
       "interactive(children=(Textarea(value='[[0,0],[1,1]] < [[0,0],[1,1]]', description='Relation:'), Checkbox(value…"
      ]
     },
     "execution_count": 2,
     "metadata": {
     },
     "output_type": "execute_result"
    }
   ],
   "source": [
    "multi_order_widget()"
   ]
  },
  {
   "cell_type": "code",
   "execution_count": 0,
   "metadata": {
    "collapsed": false
   },
   "outputs": [
   ],
   "source": [
   ]
  }
 ],
 "metadata": {
  "kernelspec": {
   "display_name": "SageMath 9.5",
   "language": "sagemath",
   "metadata": {
    "cocalc": {
     "description": "Open-source mathematical software system",
     "priority": 2,
     "url": "https://www.sagemath.org/"
    }
   },
   "name": "sage-9.5",
   "resource_dir": "/ext/jupyter/kernels/sage-9.5"
  },
  "language_info": {
   "codemirror_mode": {
    "name": "ipython",
    "version": 3
   },
   "file_extension": ".py",
   "mimetype": "text/x-python",
   "name": "python",
   "nbconvert_exporter": "python",
   "pygments_lexer": "ipython3",
   "version": "3.9.9"
  }
 },
 "nbformat": 4,
 "nbformat_minor": 4
}