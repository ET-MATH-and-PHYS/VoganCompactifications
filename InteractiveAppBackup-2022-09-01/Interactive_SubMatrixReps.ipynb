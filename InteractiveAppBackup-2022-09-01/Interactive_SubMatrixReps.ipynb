{
 "cells": [
  {
   "cell_type": "code",
   "execution_count": 1,
   "metadata": {
    "collapsed": false
   },
   "outputs": [
   ],
   "source": [
    "# Imports\n",
    "from Strata_lib import sub_rep_widget"
   ]
  },
  {
   "cell_type": "markdown",
   "metadata": {
    "collapsed": false
   },
   "source": [
    "# Sub Matrix Representative Tool\n",
    "\n",
    "The following tool relies on Reginald Lybbert's VoganV.m2 code in the paper \"APPEARANCE OF THE KASHIWARA-SAITO SINGULARITY IN THE REPRESENTATION THEORY OF $p$-ADIC $GL_{16}$\".\n",
    "\n",
    "This tool facilitates the visualization of a collection matrix representative for the substrata of an inputted strata. The matrices are represented as a direct sum of components. These components lie about the main diagonal, following the convention in \"APPEARANCE OF THE KASHIWARA-SAITO SINGULARITY IN THE REPRESENTATION THEORY OF $p$-ADIC $GL_{16}$\". Beside the direct sum we display the associated rank triangle data. To use the tool, input the rank triangle for your orbit in the following form: \n",
    "\n",
    "$$\\{\\text{dim}\\,E_n,...,\\text{dim}\\,E_0\\}, \\{\\{r_{n,n-1},...,r_{1,0}\\}, \\{r_{n,n-2},...,r_{2,0}\\},...,\\{r_{n,0}\\}\\}$$\n",
    "   \n",
    "where $\\text{dim}\\,E_k \\in \\mathbb{N}$ for each $0 \\leq k \\leq n$, and $r_{ij} = \\text{rank}(x_{i,i-1}x_{i-1,i-2}\\cdots x_{j+1,j})$ are the ranks of the products of matrix blocks in the orbit. This formatting follows the convention of \"PROOF OF VOGAN’S CONJECTURE ON ARTHUR PACKETS: SIMPLE PARAMETERS OF p-ADIC GENERAL LINEAR GROUPS\". Once you have your desired rank triangle for your orbit inputted, simply press the \"Run Algorithm\" button to obtain the matrix representations. A button is available for the selection of a different type of representative. As explained in Reginald Lybbert's code (linked in the above referenced paper), this representative \"has been rotated such that its fibre will be in the open subset of the cover that has been coordinatized.\"\n",
    "\n",
    "An example input is given when you run the cell below.\n",
    "\n"
   ]
  },
  {
   "cell_type": "code",
   "execution_count": 2,
   "metadata": {
    "collapsed": false
   },
   "outputs": [
    {
     "data": {
      "application/vnd.jupyter.widget-view+json": {
       "model_id": "049684a51fdd4a3b8bea832d7c4be1c8",
       "version_major": 2,
       "version_minor": 0
      },
      "text/plain": [
       "interactive(children=(Textarea(value='{1,2,2,2},{{1,2,0},{1,0},{0}}', description='Strata'), Checkbox(value=Fa…"
      ]
     },
     "execution_count": 2,
     "metadata": {
     },
     "output_type": "execute_result"
    }
   ],
   "source": [
    "sub_rep_widget()"
   ]
  },
  {
   "cell_type": "code",
   "execution_count": 0,
   "metadata": {
    "collapsed": false
   },
   "outputs": [
   ],
   "source": [
   ]
  }
 ],
 "metadata": {
  "kernelspec": {
   "display_name": "SageMath 9.5",
   "language": "sagemath",
   "metadata": {
    "cocalc": {
     "description": "Open-source mathematical software system",
     "priority": 2,
     "url": "https://www.sagemath.org/"
    }
   },
   "name": "sage-9.5",
   "resource_dir": "/ext/jupyter/kernels/sage-9.5"
  },
  "language_info": {
   "codemirror_mode": {
    "name": "ipython",
    "version": 3
   },
   "file_extension": ".py",
   "mimetype": "text/x-python",
   "name": "python",
   "nbconvert_exporter": "python",
   "pygments_lexer": "ipython3",
   "version": "3.9.9"
  }
 },
 "nbformat": 4,
 "nbformat_minor": 4
}