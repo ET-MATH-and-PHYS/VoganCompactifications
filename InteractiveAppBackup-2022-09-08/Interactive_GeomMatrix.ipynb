{
 "cells": [
  {
   "cell_type": "code",
   "execution_count": 1,
   "metadata": {
    "collapsed": false
   },
   "outputs": [
   ],
   "source": [
    "# Imports\n",
    "from GeometricMultiplicityMatrix_Polynomials import geom_matr_widget"
   ]
  },
  {
   "cell_type": "markdown",
   "metadata": {
    "collapsed": false
   },
   "source": [
    "# Geometric Multiplicity Matrix Tool\n",
    "\n",
    "This tool facilitates the visualization of the geometric multiplicity matrix for a given infinitesimal parameter. To use the tool, input a list of powers of your infinitesimal parameter at Frobenius into the text box as a list of complete segment portions separated by colons, as in the following format:\n",
    "\n",
    "$$[i_{1,1},...,i_{1,n_1}] : \\cdots : [i_{k,1},...,i_{k,n_k}]$$\n",
    "\n",
    "where $i_{l,j} = i_{l,j+1}$ or $i_{l,j} = i_{l,j+1}-1$ for each $1 \\leq j \\leq n_l-1$ and $1\\leq l \\leq k$. The entries in a segment can be half integers, but if so must be inputted in decimal form (e.g. 1.5). The Vogan Variety takes maps along increasing powers, so $E_{q^{i_{l,j}}}\\mapsto E_{q^{i_{l,j+1}}}$. The computation relies on the fact that for the Vogan variety for separated parts can be written as a product of Vogan varieties of the individual segment portions by Kristaps Balodis. Once you have your desired infinitesimal parameter, simply press the \"Run Algorithm\" button to obtain its associated multiplicity matrix. If the inputted infinitesimal parameter is not yet supported a warning will be displayed and nothing else. A check\\-box with label \"Orbit\" is given to choose if the orbits are displayed explicitly as rank triangles. The orbits in the table are ordered such that the matrix is lower\\-triangular. A check\\-box with the label \"Polynomials\" is also provided if one wishes the restriction outputs to be displayed as the appropriate Kazhdan-Lusztig polynomials.\n",
    "\n",
    "**Notation**: $\\mathbb{1}_C$ denotes the constant sheaf on the $H_{\\lambda}$ orbit $C$.\n",
    "\n",
    "**Types of infinitesimals that can be computed**: Any infinitesimal which has segment portions of the following form can be computed:\n",
    "\n",
    "1. $[b,b+1,...,e]$, a pure segment\n",
    "2. $[a,...,a,a+1,...,a+1]$, an arbitrary number of $a$ occurrences and an arbitrary number of $a+1$ occurrences\n",
    "3. $[a,...,a,a+1,...,a+1,a+2]$, an arbitrary number of $a$ occurrences, an arbitrary number of $a+1$ occurrences, and a single $a+2$ occurrence"
   ]
  },
  {
   "cell_type": "code",
   "execution_count": 2,
   "metadata": {
    "collapsed": false
   },
   "outputs": [
    {
     "data": {
      "application/vnd.jupyter.widget-view+json": {
       "model_id": "cd693a2fd41a497ebc7726343cbf6c82",
       "version_major": 2,
       "version_minor": 0
      },
      "text/plain": [
       "interactive(children=(Textarea(value='[-1,0,1]', description='Infinitesimal Powers'), Checkbox(value=False, de…"
      ]
     },
     "execution_count": 2,
     "metadata": {
     },
     "output_type": "execute_result"
    }
   ],
   "source": [
    "geom_matr_widget()"
   ]
  },
  {
   "cell_type": "code",
   "execution_count": 0,
   "metadata": {
    "collapsed": false
   },
   "outputs": [
   ],
   "source": [
   ]
  }
 ],
 "metadata": {
  "kernelspec": {
   "display_name": "SageMath 9.5",
   "language": "sagemath",
   "metadata": {
    "cocalc": {
     "description": "Open-source mathematical software system",
     "priority": 2,
     "url": "https://www.sagemath.org/"
    }
   },
   "name": "sage-9.5",
   "resource_dir": "/ext/jupyter/kernels/sage-9.5"
  },
  "language_info": {
   "codemirror_mode": {
    "name": "ipython",
    "version": 3
   },
   "file_extension": ".py",
   "mimetype": "text/x-python",
   "name": "python",
   "nbconvert_exporter": "python",
   "pygments_lexer": "ipython3",
   "version": "3.9.9"
  }
 },
 "nbformat": 4,
 "nbformat_minor": 4
}