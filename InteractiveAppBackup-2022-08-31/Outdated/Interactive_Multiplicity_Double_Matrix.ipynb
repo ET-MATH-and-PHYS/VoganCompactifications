{
 "cells": [
  {
   "cell_type": "code",
   "execution_count": 1,
   "metadata": {
    "collapsed": false
   },
   "outputs": [
   ],
   "source": [
    "# Imports\n",
    "from Rep_Sage_lib import multi_double_matr_widget"
   ]
  },
  {
   "cell_type": "markdown",
   "metadata": {
    "collapsed": false
   },
   "source": [
    "# Multiplicity Double Matrix Tool\n",
    "\n",
    "This tool facilitates the visualization of the multiplicity matrix for a multisegment with multiplicity with only two adjacent integers in its support. The support of a multisegment is the multiset of all segment elements contained in it. To use the tool, input a multisegment into the text box in the following format:\n",
    "\n",
    "$$[[i_1,j_1],[i_2,j_2],...,[i_n,j_n]]$$\n",
    "\n",
    "where $i_k \\leq j_k$ for each $1 \\leq k \\leq n$ and $i_k,j_k \\in \\{a,a+1\\}$ for some chosen $a \\in \\mathbb{Z}$. Once you have your desired multisegment, simply press the \"Run Algorithm\" button to obtain its associated multiplicity matrix. Two check\\-boxes are given to customize the output: \"Zeros\" controls if the zeros in the multiplicity matrix are displayed, and \"Print Multisegments\" controls if the multisegments appearing in the matrix are printed for later use. The multisegments in the table were ordered such that the matrix is upper\\-triangular. This is an application of Example 11.3 in \"Induced representations of reductive p\\-adic groups. II.\" by A. V. Zelevinsky. \n",
    "\n",
    "**Notation**: Let $a = \\{\\Delta_1,...,\\Delta_k\\}$ be a multisegment. We denote the unique irreducible quotient/sub associated with $\\Delta_i$ by $Z(\\Delta_i),Q(\\Delta_i)$. Suppose $Z(\\Delta_i),Q(\\Delta_i)$ are irreps of $\\text{GL}_{n_i}$. Then we denote the standard modules by \\begin{equation*}\n",
    "\\pi_Z(a)=\\text{Ind}_{(n_1,...,n_t)}^{(n_1+...+n_t)}(Z(\\Delta_1)\\otimes\\cdots\\otimes Z(\\Delta_k))\n",
    "\\end{equation*}\n",
    "and \\begin{equation*}\n",
    "\\pi_Q(a)=\\text{Ind}_{(n_1,...,n_t)}^{(n_1+...+n_t)}(Q(\\Delta_1)\\otimes\\cdots\\otimes Q(\\Delta_k))\n",
    "\\end{equation*}\n",
    "where we borrow the induction notation from \"Induced representations of reductive $\\mathfrak{p}$-adic groups. II. On irreducible representations of $\\text{GL}(n)$\"."
   ]
  },
  {
   "cell_type": "code",
   "execution_count": 2,
   "metadata": {
    "collapsed": false
   },
   "outputs": [
    {
     "data": {
      "application/vnd.jupyter.widget-view+json": {
       "model_id": "4d75fcb1235c4805a07c818ca0d4844c",
       "version_major": 2,
       "version_minor": 0
      },
      "text/plain": [
       "interactive(children=(Textarea(value='[[0,0],[1,1]]', description='Multisegment'), Checkbox(value=True, descri…"
      ]
     },
     "execution_count": 2,
     "metadata": {
     },
     "output_type": "execute_result"
    }
   ],
   "source": [
    "multi_double_matr_widget()"
   ]
  },
  {
   "cell_type": "code",
   "execution_count": 0,
   "metadata": {
    "collapsed": false
   },
   "outputs": [
   ],
   "source": [
   ]
  }
 ],
 "metadata": {
  "kernelspec": {
   "display_name": "SageMath 9.5",
   "language": "sagemath",
   "metadata": {
    "cocalc": {
     "description": "Open-source mathematical software system",
     "priority": 2,
     "url": "https://www.sagemath.org/"
    }
   },
   "name": "sage-9.5",
   "resource_dir": "/ext/jupyter/kernels/sage-9.5"
  },
  "language_info": {
   "codemirror_mode": {
    "name": "ipython",
    "version": 3
   },
   "file_extension": ".py",
   "mimetype": "text/x-python",
   "name": "python",
   "nbconvert_exporter": "python",
   "pygments_lexer": "ipython3",
   "version": "3.9.9"
  }
 },
 "nbformat": 4,
 "nbformat_minor": 4
}