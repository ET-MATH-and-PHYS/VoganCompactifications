{
 "cells": [
  {
   "cell_type": "code",
   "execution_count": 1,
   "metadata": {
    "collapsed": false
   },
   "outputs": [
   ],
   "source": [
    "# Imports\n",
    "from Strata_lib import strata_order_widget"
   ]
  },
  {
   "cell_type": "markdown",
   "metadata": {
    "collapsed": false
   },
   "source": [
    "# Strata Order Tool\n",
    "\n",
    "The following tool relies on Reginald Lybbert's VoganV.m2 code in the paper \"APPEARANCE OF THE KASHIWARA-SAITO SINGULARITY IN THE REPRESENTATION THEORY OF $p$-ADIC $GL_{16}$\".\n",
    "\n",
    "\n",
    "This tool facilitates the computation of the order relation between two inputed strata. To use the tool, input two strata as rank triangles into the text box separated by the appropriate comparator in the following format:\n",
    "    \n",
    "$$\\{\\text{dim}\\,E_n,...,\\text{dim}\\,E_0\\}, \\{\\{r_{n,n-1},...,r_{1,0}\\}, \\{r_{n,n-2},...,r_{2,0}\\},...,\\{r_{n,0}\\}\\} ? \\{\\text{dim}\\,F_m,...,\\text{dim}\\,F_0\\}, \\{\\{s_{m,m-1},...,s_{1,0}\\}, \\{s_{m,m-2},...,s_{2,0}\\},...,\\{s_{m,0}\\}\\}$$\n",
    "   \n",
    "where $\\text{dim}\\,E_k,\\text{dim}\\,F_l \\in \\mathbb{N}$ for each $0 \\leq k \\leq n,0\\leq l \\leq m$, and $r_{ij},s_{ij} = \\text{rank}(x_{i,i-1},x_{i-1,i-2}\\cdots x_{j+1,j})$ are the ranks of the products of matrix blocks in the orbit. This formatting follows the convention of \"PROOF OF VOGAN’S CONJECTURE ON ARTHUR PACKETS: SIMPLE PARAMETERS OF p-ADIC GENERAL LINEAR GROUPS\". Additionally, $? \\in \\{<,>,=,<=,>=\\}$. Once you have your desired strata and order relation, simply press the \"Run Algorithm\" button to obtain the truth value of your input."
   ]
  },
  {
   "cell_type": "code",
   "execution_count": 2,
   "metadata": {
    "collapsed": false
   },
   "outputs": [
    {
     "data": {
      "application/vnd.jupyter.widget-view+json": {
       "model_id": "80025219e3ce4fafb37fd347924d1958",
       "version_major": 2,
       "version_minor": 0
      },
      "text/plain": [
       "interactive(children=(Textarea(value='{1,2,2,2},{{1,2,0},{1,0},{0}} < {1,2,2,2},{{1,2,1},{1,0},{0}}', descript…"
      ]
     },
     "execution_count": 2,
     "metadata": {
     },
     "output_type": "execute_result"
    }
   ],
   "source": [
    "strata_order_widget()"
   ]
  },
  {
   "cell_type": "code",
   "execution_count": 0,
   "metadata": {
    "collapsed": false
   },
   "outputs": [
   ],
   "source": [
   ]
  }
 ],
 "metadata": {
  "kernelspec": {
   "display_name": "SageMath 9.5",
   "language": "sagemath",
   "metadata": {
    "cocalc": {
     "description": "Open-source mathematical software system",
     "priority": 2,
     "url": "https://www.sagemath.org/"
    }
   },
   "name": "sage-9.5",
   "resource_dir": "/ext/jupyter/kernels/sage-9.5"
  },
  "language_info": {
   "codemirror_mode": {
    "name": "ipython",
    "version": 3
   },
   "file_extension": ".py",
   "mimetype": "text/x-python",
   "name": "python",
   "nbconvert_exporter": "python",
   "pygments_lexer": "ipython3",
   "version": "3.9.9"
  }
 },
 "nbformat": 4,
 "nbformat_minor": 4
}