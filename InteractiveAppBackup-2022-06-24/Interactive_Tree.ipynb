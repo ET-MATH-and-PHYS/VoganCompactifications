{
 "cells": [
  {
   "cell_type": "code",
   "execution_count": 1,
   "metadata": {
    "collapsed": false
   },
   "outputs": [
   ],
   "source": [
    "# Imports\n",
    "from Rep_Sage_lib import multi_tree_widget"
   ]
  },
  {
   "cell_type": "markdown",
   "metadata": {
    "collapsed": false
   },
   "source": [
    "# Multisegment Partial Order Tool\n",
    "\n",
    "This tool facilitates the visualization of the partial ordering tree for a multisegment. To use the tool, input a multisegment into the text box in the following format:\n",
    "    \n",
    "$$[[i_1,j_1],[i_2,j_2],...,[i_n,j_n]]$$\n",
    "   \n",
    "where $i_k \\leq j_k$ for each $1 \\leq k \\leq n$. Once you have your desired multisegment, simply press the \"Run Algorithm\" button to obtain its associated poset tree. The default poset is that for the sub-module picture, but if one wishes for the quotient module picture instead simply press the \"Quotient\" button. **NOTE:** Multisegment trees can grow very quickly. If the size grows beyond 100 the resulting poset will not be plotted as it cannot be plotted intelligibly. Instead we recommend comparing whether two multisegments are related using the Interactive_Multi_Order tool."
   ]
  },
  {
   "cell_type": "code",
   "execution_count": 2,
   "metadata": {
    "collapsed": false
   },
   "outputs": [
    {
     "data": {
      "application/vnd.jupyter.widget-view+json": {
       "model_id": "cb99131f03fa4deda352514906599c8c",
       "version_major": 2,
       "version_minor": 0
      },
      "text/plain": [
       "interactive(children=(Textarea(value='[[0,0],[1,1]]', description='Multisegment'), Checkbox(value=False, descr…"
      ]
     },
     "execution_count": 2,
     "metadata": {
     },
     "output_type": "execute_result"
    }
   ],
   "source": [
    "multi_tree_widget()"
   ]
  },
  {
   "cell_type": "code",
   "execution_count": 0,
   "metadata": {
    "collapsed": false
   },
   "outputs": [
   ],
   "source": [
   ]
  }
 ],
 "metadata": {
  "kernelspec": {
   "display_name": "SageMath 9.5",
   "language": "sagemath",
   "metadata": {
    "cocalc": {
     "description": "Open-source mathematical software system",
     "priority": 2,
     "url": "https://www.sagemath.org/"
    }
   },
   "name": "sage-9.5",
   "resource_dir": "/ext/jupyter/kernels/sage-9.5"
  },
  "language_info": {
   "codemirror_mode": {
    "name": "ipython",
    "version": 3
   },
   "file_extension": ".py",
   "mimetype": "text/x-python",
   "name": "python",
   "nbconvert_exporter": "python",
   "pygments_lexer": "ipython3",
   "version": "3.9.9"
  }
 },
 "nbformat": 4,
 "nbformat_minor": 4
}